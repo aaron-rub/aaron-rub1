{
 "cells": [
  {
   "cell_type": "markdown",
   "metadata": {},
   "source": [
    "## FRQ Question 2\n",
    "\n",
    "Write the complete HiddenWord class, including any necessary instance variables, its constructor, and the method, getHint, described above. You may assume that the length of the guess is the same as the length of the hidden word."
   ]
  },
  {
   "cell_type": "code",
   "execution_count": 1,
   "metadata": {
    "vscode": {
     "languageId": "java"
    }
   },
   "outputs": [
    {
     "name": "stdout",
     "output_type": "stream",
     "text": [
      "Guess a 5 letter word\n",
      "SHARP\n",
      "Hint: +++++\n",
      "Guess a 5 letter word\n",
      "HARPS\n",
      "Hint: HARPS\n",
      "You win\n"
     ]
    }
   ],
   "source": [
    "import java.util.Scanner;\n",
    "public class HiddenWord {\n",
    "    private String word;\n",
    "    public HiddenWord(String hiddenWord){\n",
    "        word = hiddenWord;\n",
    "    }\n",
    "    public String getHint(String attempt){\n",
    "        String hint = \"\";\n",
    "        for(int i=0; i<attempt.length();i++){\n",
    "            if(attempt.charAt(i)==word.charAt(i)){\n",
    "                hint+=attempt.charAt(i);\n",
    "            }\n",
    "            else if(word.indexOf(attempt.charAt(i))!=-1){\n",
    "                hint+=\"+\";\n",
    "            }\n",
    "            else{\n",
    "                hint+=\"*\";\n",
    "            }\n",
    "        }\n",
    "        return hint;\n",
    "    }\n",
    "    public static void main(String[] args) {\n",
    "        HiddenWord puzzle = new HiddenWord(\"HARPS\");\n",
    "        Scanner scan = new Scanner(System.in);\n",
    "        boolean playing = true;\n",
    "        while (playing){\n",
    "            System.out.println(\"Guess a 5 letter word\");\n",
    "            String attempt = scan.nextLine();\n",
    "            System.out.println(attempt);\n",
    "            String hint = puzzle.getHint(attempt);\n",
    "            System.out.println(\"Hint: \"+hint);\n",
    "            if(hint.equals(puzzle.word)){\n",
    "                System.out.println(\"You win\");\n",
    "                playing=false;\n",
    "            }\n",
    "        }\n",
    "    }\n",
    "}\n",
    "HiddenWord.main(null);"
   ]
  },
  {
   "cell_type": "markdown",
   "metadata": {},
   "source": [
    "This question is about creating a fun word guessing game. It tests if we can set up the game with a hidden word and give hints based on player guesses. We use classes and methods to organize the game, making it easier to manage. It's also a test of our skills in comparing and changing words, figuring out which letters match and which don't. Overall, it's a cool way to see how we handle game logic in programming."
   ]
  }
 ],
 "metadata": {
  "kernelspec": {
   "display_name": "Java",
   "language": "java",
   "name": "java"
  },
  "language_info": {
   "codemirror_mode": "java",
   "file_extension": ".jshell",
   "mimetype": "text/x-java-source",
   "name": "Java",
   "pygments_lexer": "java",
   "version": "11.0.20+8-post-Ubuntu-1ubuntu120.04"
  }
 },
 "nbformat": 4,
 "nbformat_minor": 2
}
