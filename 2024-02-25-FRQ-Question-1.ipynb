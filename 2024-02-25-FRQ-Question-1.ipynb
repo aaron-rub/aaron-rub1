{
 "cells": [
  {
   "cell_type": "markdown",
   "metadata": {},
   "source": [
    "## FRQ Question 1\n",
    "\n",
    "Write a static method arraySum that calculates and returns the sum of the entries in a specified one-dimensional array. The following example shows an array arr1 and the value returned by a call to arraySum."
   ]
  },
  {
   "cell_type": "code",
   "execution_count": 2,
   "metadata": {
    "vscode": {
     "languageId": "java"
    }
   },
   "outputs": [
    {
     "name": "stdout",
     "output_type": "stream",
     "text": [
      "16\n"
     ]
    }
   ],
   "source": [
    "public static int arraySum(int[] arr) {\n",
    "    int sum = 0; // Initialize the sum to zero\n",
    "    for (int i = 0; i < arr.length; i++) {\n",
    "        sum += arr[i]; // Accumulate the sum of array elements\n",
    "    }\n",
    "    return sum; // Return the total sum\n",
    "}\n",
    "\n",
    "public class ArraySumTest {\n",
    "    public static void main(String[] args) {\n",
    "        int[] arr = {1, 3, 2, 7, 3}; // Example array with values\n",
    "        int sum = arraySum(arr); // Calculate the sum using arraySum method\n",
    "        System.out.println(sum); // Print the result\n",
    "    }\n",
    "}\n",
    "ArraySumTest.main(null);\n"
   ]
  },
  {
   "cell_type": "markdown",
   "metadata": {},
   "source": [
    "(b) Write a static method rowSums that calculates the sums of each of the rows in a given two-dimensional array and returns these sums in a one-dimensional array. The method has one parameter, a two-dimensional array arr2D of int values. The array is in row-major order: arr2D [ r ] [ c ] is the entry at row r and column c. The method returns a one-dimensional array with one entry for each row of arr2D such that each entry is the sum of the corresponding row in arr2D. As a reminder, each row of a two-dimensional array is a one-dimensional array."
   ]
  },
  {
   "cell_type": "code",
   "execution_count": 3,
   "metadata": {
    "vscode": {
     "languageId": "java"
    }
   },
   "outputs": [
    {
     "name": "stdout",
     "output_type": "stream",
     "text": [
      "Row 0 Sum: 16\n",
      "Row 1 Sum: 32\n",
      "Row 2 Sum: 28\n",
      "Row 3 Sum: 20\n"
     ]
    }
   ],
   "source": [
    "public static int[] rowSums(int[][] arr2D) {\n",
    "    int rowsAmount = arr2D.length; // Get the number of rows in the 2D array\n",
    "    int[] sums = new int[rowsAmount]; // Create an array to store row sums\n",
    "    for (int i = 0; i < arr2D.length; i++) {\n",
    "        sums[i] = arraySum(arr2D[i]); // Calculate the sum of each row using arraySum method\n",
    "    }\n",
    "    return sums; // Return an array containing row sums\n",
    "}\n",
    "\n",
    "public class RowSumsTest {\n",
    "    public static void main(String[] args) {\n",
    "        int[][] arr2D = {\n",
    "            {1, 3, 2, 7, 3},\n",
    "            {10, 10, 4, 6, 2},\n",
    "            {5, 3, 5, 9, 6},\n",
    "            {7, 6, 4, 2, 1}\n",
    "        };\n",
    "        int[] sums = rowSums(arr2D); // Calculate row sums\n",
    "        for (int i = 0; i < sums.length; i++) {\n",
    "            System.out.println(\"Row \" + i + \" Sum: \" + sums[i]); // Print row sums\n",
    "        }\n",
    "    }\n",
    "}\n",
    "RowSumsTest.main(null);\n"
   ]
  },
  {
   "cell_type": "markdown",
   "metadata": {},
   "source": [
    "This question covers Arrays/ArrayLists and 2D Arrays. Part a tests array knowledge by summing array elements. Part b involves 2D arrays, summing each row's elements. These parts highlight skills in navigating and manipulating 1D and 2D arrays, focusing on element summation and array traversal.\n"
   ]
  }
 ],
 "metadata": {
  "kernelspec": {
   "display_name": "Java",
   "language": "java",
   "name": "java"
  },
  "language_info": {
   "codemirror_mode": "java",
   "file_extension": ".jshell",
   "mimetype": "text/x-java-source",
   "name": "Java",
   "pygments_lexer": "java",
   "version": "11.0.20+8-post-Ubuntu-1ubuntu120.04"
  }
 },
 "nbformat": 4,
 "nbformat_minor": 2
}
