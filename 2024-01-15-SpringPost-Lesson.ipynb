{
 "cells": [
  {
   "cell_type": "markdown",
   "metadata": {},
   "source": [
    "---\n",
    "comments: true\n",
    "layout: notebook\n",
    "title: Spring Post and DB Lesson\n",
    "description: Spring Post and DB Lesson P3\n",
    "type: Lesson\n",
    "toc: true\n",
    "courses: { csa: {week: } }\n",
    "---"
   ]
  },
  {
   "cell_type": "markdown",
   "metadata": {},
   "source": [
    "## REST API Methods for Users\n",
    "<h4> 1. GET: /users </h4>\n",
    "    - Description: Acquire a system's user list.\n",
    "\n",
    "    - Request: GET /users\n",
    "\n",
    "    - Response: Status code 200 OK and JSON array containing details of multiple users.\n",
    "    \n",
    "<h4>2. GET: /users(id) </h4>\n",
    "    - Description: Obtain a specific user using their unique ID.\n",
    "\n",
    "    - Request: GET /users/Mort \n",
    "\n",
    "    - Response: status code 200 OK and user with ID Mort.\n",
    "\n",
    "<h4> 3. POST: /users </h4>\n",
    "    - Description: Establish a new user within the system.\n",
    "\n",
    "    - Request: Send POST request -> /users containing the user information.\n",
    "\n",
    "    - Response: status code 200 OK and JSON object with newly created user.\n",
    "\n",
    "<h4> 4. PUT: /users(id) </h4>\n",
    "    - Description: Update an existing user with their ID.\n",
    "\n",
    "    - Request: Send a PUT request to /users/Mort containing the updated information.\n",
    "\n",
    "    - Response: status code 200 OK will include the user with updated details."
   ]
  },
  {
   "cell_type": "markdown",
   "metadata": {},
   "source": [
    "## HTTP Status\n",
    "\n",
    "`400 Bad Request` Description: Cannot read the request, often due to unknown syntax or missing parameter.\n",
    "\n",
    "Example: When a server receives a request that is either improperly formatted or missing necessary information, it returns a 400 Bad Request status code.\n",
    "\n",
    "`404 Not Found`  Description: The requested resource (user) could not find on server\n",
    "\n",
    "Example Usage: If a GET, PUT, or DELETE request is made for a user that doesn't exist, the server will return a 404 Not Found status code.\n",
    "\n",
    "`200 OK` Description: Successful request, and returns the requested data.\n",
    "\n",
    "Example : Upon successfully executing a GET, POST, PUT, or DELETE operation, the server issues a 200 OK status code."
   ]
  }
 ],
 "metadata": {
  "language_info": {
   "name": "python"
  }
 },
 "nbformat": 4,
 "nbformat_minor": 2
}
