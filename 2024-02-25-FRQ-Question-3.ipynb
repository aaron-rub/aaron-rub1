{
 "cells": [
  {
   "cell_type": "markdown",
   "metadata": {},
   "source": [
    "## FRQ Question 3\n",
    "(a) Write the SparseArray method getValueAt. The method returns the value of the sparse array element at a given row and column in the sparse array. If the list entries contains an entry with the specified row and column, the value associated with the entry is returned. If there is no entry in entries corresponding to the specified row and column, 0 is returned.\n"
   ]
  },
  {
   "cell_type": "code",
   "execution_count": 1,
   "metadata": {
    "vscode": {
     "languageId": "java"
    }
   },
   "outputs": [
    {
     "name": "stdout",
     "output_type": "stream",
     "text": [
      "The value at (1, 4) is 4\n",
      "The value at (2, 0) is 1\n",
      "The value at (3, 1) is -9\n",
      "The value at (1, 1) is 5\n",
      "Number of Cols: 5\n"
     ]
    }
   ],
   "source": [
    "public class SparseArrayEntry{\n",
    "    private int row;\n",
    "    private int col;\n",
    "    private int value;\n",
    "    public SparseArrayEntry(int r, int c, int v){\n",
    "        row = r;\n",
    "        col = c;\n",
    "        value = v;\n",
    "    }\n",
    "    public int getRow(){\n",
    "        return row;\n",
    "    }\n",
    "    public int getCol(){\n",
    "        return col;\n",
    "    }\n",
    "    public int getValue(){\n",
    "        return value;\n",
    "    }\n",
    "}\n",
    "public class SparseArray{\n",
    "    private int numRows;\n",
    "    private int numCols;\n",
    "    private List<SparseArrayEntry> entries;\n",
    "    public SparseArray(){\n",
    "        entries = new ArrayList<SparseArrayEntry>();\n",
    "    }\n",
    "    public int getNumRows(){\n",
    "        return numRows;\n",
    "    }\n",
    "    public int getNumCols(){\n",
    "        return numCols;\n",
    "    }\n",
    "    public void addEntry(SparseArrayEntry entry) {\n",
    "        entries.add(entry);\n",
    "        numRows = Math.max(numRows, entry.getRow() + 1);\n",
    "        numCols = Math.max(numCols, entry.getCol() + 1);\n",
    "    }\n",
    "    public int getValueAt(int row, int col){\n",
    "        for (SparseArrayEntry e : entries){\n",
    "            if (e.getRow() == row && e.getCol() == col) {\n",
    "                return e.getValue();\n",
    "            }\n",
    "        }\n",
    "        return 0;\n",
    "    }\n",
    "}\n",
    "public class Test1 {\n",
    "    public static void main(String[] args) {\n",
    "        SparseArray sparseArray = new SparseArray();\n",
    "        sparseArray.addEntry(new SparseArrayEntry(1, 4, 4));\n",
    "        sparseArray.addEntry(new SparseArrayEntry(2, 0, 1));\n",
    "        sparseArray.addEntry(new SparseArrayEntry(3, 1, -9));\n",
    "        sparseArray.addEntry(new SparseArrayEntry(1, 1, 5));\n",
    "        System.out.println(\"The value at (1, 4) is \" + sparseArray.getValueAt(1, 4));\n",
    "        System.out.println(\"The value at (2, 0) is \" + sparseArray.getValueAt(2, 0));\n",
    "        System.out.println(\"The value at (3, 1) is \" + sparseArray.getValueAt(3, 1));\n",
    "        System.out.println(\"The value at (1, 1) is \" + sparseArray.getValueAt(1, 1));\n",
    "        System.out.println(\"Number of Cols: \" +sparseArray.getNumCols());\n",
    "    }\n",
    "}\n",
    "Test1.main(null);"
   ]
  },
  {
   "cell_type": "markdown",
   "metadata": {},
   "source": [
    "(b) Write the SparseArray method removeColumn. After removing a specified column from a sparsearray:\n",
    "\n",
    "All entries in the list entries with column indexes matching col are removed from the list.\n",
    "\n",
    "All entries in the list entries with column indexes greater than col are replaced by entries with column indexes that are decremented by one (moved one column to the left).\n",
    "\n",
    "The number of columns in the sparse array is adjusted to reflect the column removed."
   ]
  },
  {
   "cell_type": "code",
   "execution_count": 2,
   "metadata": {
    "vscode": {
     "languageId": "java"
    }
   },
   "outputs": [
    {
     "name": "stdout",
     "output_type": "stream",
     "text": [
      "The value at (1, 4) is 4\n",
      "The value at (2, 0) is 1\n",
      "The value at (3, 1) is -9\n",
      "The value at (1, 1) is 5\n",
      "Number of Cols: 5\n",
      "The value at (1, 4) is 0\n",
      "The value at (1, 3) is 4 because the columns shifted\n",
      "The value at (2, 0) is 1\n",
      "The value at (3, 1) is 0\n",
      "The value at (1, 1) is 0\n",
      "Number of Cols: 4\n"
     ]
    }
   ],
   "source": [
    "public class SparseArrayEntry{\n",
    "    private int row;\n",
    "    private int col;\n",
    "    private int value;\n",
    "    public SparseArrayEntry(int r, int c, int v){\n",
    "        row = r;\n",
    "        col = c;\n",
    "        value = v;\n",
    "    }\n",
    "    public int getRow(){\n",
    "        return row;\n",
    "    }\n",
    "    public int getCol(){\n",
    "        return col;\n",
    "    }\n",
    "    public int getValue(){\n",
    "        return value;\n",
    "    }\n",
    "}\n",
    "public class SparseArray{\n",
    "    private int numRows;\n",
    "    private int numCols;\n",
    "    private List<SparseArrayEntry> entries;\n",
    "    public SparseArray(){\n",
    "        entries = new ArrayList<SparseArrayEntry>();\n",
    "    }\n",
    "    public int getNumRows(){\n",
    "        return numRows;\n",
    "    }\n",
    "    public int getNumCols(){\n",
    "        return numCols;\n",
    "    }\n",
    "    public void addEntry(SparseArrayEntry entry) {\n",
    "        entries.add(entry);\n",
    "        numRows = Math.max(numRows, entry.getRow() + 1);\n",
    "        numCols = Math.max(numCols, entry.getCol() + 1);\n",
    "    }\n",
    "    public int getValueAt(int row, int col){\n",
    "        for (SparseArrayEntry e : entries){\n",
    "            if (e.getRow() == row && e.getCol() == col) {\n",
    "                return e.getValue();\n",
    "            }\n",
    "        }\n",
    "        return 0;\n",
    "    }\n",
    "    public void removeColumn(int col){\n",
    "        numCols--;\n",
    "        for(int i = entries.size()-1;i>=0;i--){\n",
    "            if(entries.get(i).getCol()==col){\n",
    "                entries.remove(i);\n",
    "            }\n",
    "        }\n",
    "        for (int i = 0; i < entries.size(); i++) {\n",
    "            if (entries.get(i).getCol()>col) {\n",
    "                SparseArrayEntry old = entries.get(i);\n",
    "                SparseArrayEntry newE = new SparseArrayEntry(old.getRow(), (old.getCol() - 1), old.getValue());\n",
    "                entries.set(i, newE);\n",
    "            }\n",
    "        }\n",
    "    }\n",
    "}\n",
    "public class Test2 {\n",
    "    public static void main(String[] args) {\n",
    "        SparseArray sparseArray = new SparseArray();\n",
    "        sparseArray.addEntry(new SparseArrayEntry(1, 4, 4));\n",
    "        sparseArray.addEntry(new SparseArrayEntry(2, 0, 1));\n",
    "        sparseArray.addEntry(new SparseArrayEntry(3, 1, -9));\n",
    "        sparseArray.addEntry(new SparseArrayEntry(1, 1, 5));\n",
    "        System.out.println(\"The value at (1, 4) is \" + sparseArray.getValueAt(1, 4));\n",
    "        System.out.println(\"The value at (2, 0) is \" + sparseArray.getValueAt(2, 0));\n",
    "        System.out.println(\"The value at (3, 1) is \" + sparseArray.getValueAt(3, 1));\n",
    "        System.out.println(\"The value at (1, 1) is \" + sparseArray.getValueAt(1, 1));\n",
    "        System.out.println(\"Number of Cols: \" +sparseArray.getNumCols());\n",
    "        sparseArray.removeColumn(1);\n",
    "        System.out.println(\"The value at (1, 4) is \" + sparseArray.getValueAt(1, 4));\n",
    "        System.out.println(\"The value at (1, 3) is \" + sparseArray.getValueAt(1, 3)+\" because the columns shifted\");\n",
    "        System.out.println(\"The value at (2, 0) is \" + sparseArray.getValueAt(2, 0));\n",
    "        System.out.println(\"The value at (3, 1) is \" + sparseArray.getValueAt(3, 1));\n",
    "        System.out.println(\"The value at (1, 1) is \" + sparseArray.getValueAt(1, 1));\n",
    "        System.out.println(\"Number of Cols: \" +sparseArray.getNumCols());\n",
    "    }\n",
    "}\n",
    "Test2.main(null);"
   ]
  },
  {
   "cell_type": "markdown",
   "metadata": {},
   "source": [
    "This FRQ was all about playing with ArrayLists and 2D Arrays. It challenged us to tweak and play around with data in an ArrayList, showcasing why ArrayLists are pretty handy due to their flexibility. We had to dig into the list, grab specific values, and even yank some out. It was like being a data magician, making some elements appear and others disappear, all while keeping track of our rows and columns. "
   ]
  }
 ],
 "metadata": {
  "kernelspec": {
   "display_name": "Java",
   "language": "java",
   "name": "java"
  },
  "language_info": {
   "codemirror_mode": "java",
   "file_extension": ".jshell",
   "mimetype": "text/x-java-source",
   "name": "Java",
   "pygments_lexer": "java",
   "version": "11.0.20+8-post-Ubuntu-1ubuntu120.04"
  }
 },
 "nbformat": 4,
 "nbformat_minor": 2
}
