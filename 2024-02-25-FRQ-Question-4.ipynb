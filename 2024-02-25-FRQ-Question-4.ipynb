{
 "cells": [
  {
   "cell_type": "markdown",
   "metadata": {},
   "source": [
    "## FRQ Question 4\n",
    "\n",
    "(a) A number group represents a group of integers defined in some way. It could be empty, or it could contain one or more integers.\n",
    "\n",
    "Write an interface named NumberGroup that represents a group of integers. The interface should have a single contains method that determines if a given integer is in the group. For example, if group1 is of type NumberGroup, and it contains only the two numbers -5 and 3, then group1.contains(-5) would return true, and group1.contains(2) would return false. Write the complete NumberGroup interface. It must have exactly one method.\n"
   ]
  },
  {
   "cell_type": "code",
   "execution_count": 1,
   "metadata": {
    "vscode": {
     "languageId": "java"
    }
   },
   "outputs": [
    {
     "name": "stdout",
     "output_type": "stream",
     "text": [
      "group1 contains -5: true\n",
      "group1 contains 2: false\n"
     ]
    }
   ],
   "source": [
    "public interface NumberGroup{\n",
    "    public boolean contains(int num);\n",
    "}\n",
    "public class Numbers implements NumberGroup{\n",
    "    private List<Integer> numbers;\n",
    "    public Numbers(List<Integer> numbers) {\n",
    "        this.numbers = numbers;\n",
    "    }\n",
    "    @Override\n",
    "    public boolean contains(int num){\n",
    "        return numbers.contains(num);\n",
    "    }\n",
    "}\n",
    "public class Test1{\n",
    "    public static void main(String[] args) {\n",
    "        NumberGroup group1 = new Numbers(Arrays.asList(-5,3));\n",
    "        System.out.println(\"group1 contains -5: \"+group1.contains(-5));\n",
    "        System.out.println(\"group1 contains 2: \"+group1.contains(2));\n",
    "    }\n",
    "}\n",
    "Test1.main(null);"
   ]
  },
  {
   "cell_type": "markdown",
   "metadata": {},
   "source": [
    "(b) A range represents a number group that contains all (and only) the integers between a minimum value and a maximum value, inclusive. Write the Range class, which is a NumberGroup. The Range class represents the group of int values that range from a given minimum value up through a given maximum value, inclusive. For example,the declaration\n",
    "\n",
    "NumberGroup range1 = new Range(-3, 2);\n",
    "\n",
    "represents the group of integer values -3, -2, -1, 0, 1, 2.\n",
    "\n",
    "Write the complete Range class. Include all necessary instance variables and methods as well as a constructor that takes two int parameters. The first parameter represents the minimum value, and the second parameter represents the maximum value of the range. You may assume that the minimum is less than or equal to the maximum."
   ]
  },
  {
   "cell_type": "code",
   "execution_count": 3,
   "metadata": {
    "vscode": {
     "languageId": "java"
    }
   },
   "outputs": [
    {
     "name": "stdout",
     "output_type": "stream",
     "text": [
      "range1 contains -5: false\n",
      "range1 contains 2: true\n",
      "range1 contains 10: false\n"
     ]
    }
   ],
   "source": [
    "public class Range implements NumberGroup{\n",
    "    private int min;\n",
    "    private int max;\n",
    "    public Range(int min, int max){\n",
    "        this.min = min;\n",
    "        this.max = max;\n",
    "    }\n",
    "    @Override\n",
    "    public boolean contains(int num) {\n",
    "        return num >= min && num <= max;\n",
    "    }\n",
    "}\n",
    "public class Test2{\n",
    "    public static void main(String[] args) {\n",
    "        NumberGroup range1 = new Range(-3, 2);\n",
    "        System.out.println(\"range1 contains -5: \"+range1.contains(-5));\n",
    "        System.out.println(\"range1 contains 2: \"+range1.contains(2));\n",
    "        System.out.println(\"range1 contains 10: \"+range1.contains(10));\n",
    "    }\n",
    "}\n",
    "Test2.main(null);"
   ]
  },
  {
   "cell_type": "markdown",
   "metadata": {},
   "source": [
    "(c) The MultipleGroups class (not shown) represents a collection of NumberGroup objects and isa NumberGroup. The MultipleGroups class stores the number groups in the instance variable groupList (shown below), which is initialized in the constructor.\n",
    "\n",
    "private List groupList;\n",
    "\n",
    "Write the MultipleGroups method contains. The method takes an integer and returns true if and only if the integer is contained in one or more of the number groups in groupList."
   ]
  },
  {
   "cell_type": "code",
   "execution_count": 4,
   "metadata": {
    "vscode": {
     "languageId": "java"
    }
   },
   "outputs": [
    {
     "name": "stdout",
     "output_type": "stream",
     "text": [
      "multiple1 contains 2: true\n",
      "multiple1 contains 9: false\n",
      "multiple1 contains 6: true\n"
     ]
    }
   ],
   "source": [
    "public class MultipleGroups implements NumberGroup {\n",
    "    private List<NumberGroup> groupList;\n",
    "    public MultipleGroups(List<NumberGroup> groupList) {\n",
    "        this.groupList = groupList;\n",
    "    }\n",
    "    public boolean contains(int num) {\n",
    "        for (NumberGroup g : groupList) {\n",
    "            if (g.contains(num)) {\n",
    "                return true;\n",
    "            }\n",
    "        }\n",
    "        return false;\n",
    "    }\n",
    "}\n",
    "public class Test3{\n",
    "    public static void main(String[] args) {\n",
    "        List<NumberGroup> groups = new ArrayList<>();\n",
    "        groups.add(new Range(5, 8));\n",
    "        groups.add(new Range(10, 12));\n",
    "        groups.add(new Range(1, 6));\n",
    "        MultipleGroups multiple1 = new MultipleGroups(groups);\n",
    "        System.out.println(\"multiple1 contains 2: \"+multiple1.contains(2));\n",
    "        System.out.println(\"multiple1 contains 9: \"+multiple1.contains(9));\n",
    "        System.out.println(\"multiple1 contains 6: \"+multiple1.contains(6));\n",
    "    }\n",
    "}\n",
    "Test3.main(null);"
   ]
  },
  {
   "cell_type": "markdown",
   "metadata": {},
   "source": [
    "This FRQ dives into Classes and Interfaces, making us work with an interface called NumberGroup to check if specific numbers are part of different groups. We created a few classes: one that stores numbers in a list, another that defines a range of numbers, and a third that combines multiple ranges. It's all about using Object-Oriented Programming (OOP) and abstraction to make our code neat, easy to write, and even easier to update. We had to override a method to fit our needs, whether it was checking a list, a range, or multiple ranges."
   ]
  }
 ],
 "metadata": {
  "kernelspec": {
   "display_name": "Java",
   "language": "java",
   "name": "java"
  },
  "language_info": {
   "codemirror_mode": "java",
   "file_extension": ".jshell",
   "mimetype": "text/x-java-source",
   "name": "Java",
   "pygments_lexer": "java",
   "version": "11.0.20+8-post-Ubuntu-1ubuntu120.04"
  }
 },
 "nbformat": 4,
 "nbformat_minor": 2
}
