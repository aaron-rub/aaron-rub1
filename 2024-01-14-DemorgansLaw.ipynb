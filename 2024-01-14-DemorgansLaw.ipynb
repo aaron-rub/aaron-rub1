{
 "cells": [
  {
   "cell_type": "markdown",
   "metadata": {},
   "source": [
    "**1-Minute Lesson:**\n",
    "\n",
    "DeMorgan's laws are transformation rules that are applied to simplify expressions in Boolean algebra. They state that:\n",
    "\n",
    "1. The negation of a conjunction is the disjunction of the negations.\n",
    "2. The negation of a disjunction is the conjunction of the negations.\n",
    "\n",
    "In Java, this translates to:\n",
    "\n",
    "1. `!(x && y)` is equivalent to `!x || !y`\n",
    "2. `!(x || y)` is equivalent to `!x && !y`"
   ]
  },
  {
   "cell_type": "code",
   "execution_count": null,
   "metadata": {
    "vscode": {
     "languageId": "java"
    }
   },
   "outputs": [],
   "source": [
    "public class Main {\n",
    "    public static void main(String[] args) {\n",
    "        boolean x = true;\n",
    "        boolean y = false;\n",
    "\n",
    "        System.out.println(\"!(x && y) is \" + !(x && y));\n",
    "        System.out.println(\"!x || !y is \" + (!x || !y));\n",
    "\n",
    "        System.out.println(\"!(x || y) is \" + !(x || y));\n",
    "        System.out.println(\"!x && !y is \" + (!x && !y));\n",
    "    }\n",
    "}"
   ]
  },
  {
   "cell_type": "markdown",
   "metadata": {},
   "source": [
    "1-Minute Homework:\n",
    "\n",
    "Your task is to create a truth table for the expressions !(x && y) and !(x || y), and verify DeMorgan’s laws."
   ]
  }
 ],
 "metadata": {
  "language_info": {
   "name": "python"
  }
 },
 "nbformat": 4,
 "nbformat_minor": 2
}
