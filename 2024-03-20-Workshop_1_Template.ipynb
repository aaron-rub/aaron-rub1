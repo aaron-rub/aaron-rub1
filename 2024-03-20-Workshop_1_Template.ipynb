{
 "cells": [
  {
   "cell_type": "markdown",
   "metadata": {},
   "source": [
    "---\n",
    "title: Workshop 1 Hacks TEMPLATE\n",
    "description: Methods & Control Structures Workshop Hacks\n",
    "toc: true\n",
    "layout: post\n",
    "courses: { csa: {week: '26'} }\n",
    "type: hacks\n",
    "comments: true\n",
    "---"
   ]
  },
  {
   "cell_type": "markdown",
   "metadata": {},
   "source": [
    "## Question 2: Iteration over 2D arrays (Unit 4)\n",
    "\n",
    "Situation: You are developing a game where you need to track player scores on a 2D grid representing levels and attempts."
   ]
  },
  {
   "cell_type": "markdown",
   "metadata": {},
   "source": [
    "(a) Explain the concept of iteration over a 2D array in Java. Provide an example scenario where iterating over a 2D array is useful in a programming task.\n",
    "\n"
   ]
  },
  {
   "cell_type": "markdown",
   "metadata": {},
   "source": [
    "(b) You need to implement a method `calculateTotalScore` that takes a 2D array `scores` of integers representing player scores and returns the sum of all the elements in the array. Write the method signature and the method implementation. Include comments to explain your code."
   ]
  },
  {
   "cell_type": "code",
   "execution_count": 1,
   "metadata": {
    "vscode": {
     "languageId": "java"
    }
   },
   "outputs": [
    {
     "name": "stdout",
     "output_type": "stream",
     "text": [
      "36\n"
     ]
    }
   ],
   "source": [
    "// code\n",
    "public class Main {\n",
    "    public static int calculateTotalScore (int[][] scores) {\n",
    "        int sum = 0; \n",
    "        for (int i = 0; i < scores.length; i++)\n",
    "    {\n",
    "        for (int j = 0; j < scores[i].length; j++)\n",
    "        {\n",
    "            sum += scores[i][j]; \n",
    "        }\n",
    "    }\n",
    "        return sum;\n",
    "    }\n",
    "    public static void main(String[] args) {\n",
    "        int[][] scores = { //test \n",
    "            {1, 2, 3},\n",
    "            {3, 4, 5},\n",
    "            {5, 6, 7}\n",
    "        };\n",
    "        System.out.println(calculateTotalScore(scores));\n",
    "    }\n",
    "}\n",
    "Main.main(null);"
   ]
  },
  {
   "cell_type": "markdown",
   "metadata": {},
   "source": [
    "## Question 4: Math Class (Unit 2)\n",
    "\n",
    "Situation: You are developing a scientific calculator application where users need to perform various mathematical operations."
   ]
  },
  {
   "cell_type": "markdown",
   "metadata": {},
   "source": [
    "(a) Discuss the purpose and utility of the Math class in Java programming. Provide examples of at least three methods provided by the Math class and explain their usage.\n",
    "- allows a user to use math functions"
   ]
  },
  {
   "cell_type": "markdown",
   "metadata": {},
   "source": [
    "(b) You need to implement a method `calculateSquareRoot` that takes a `double` number as input and returns its square root using the Math class. Write the method signature and the method implementation. Include comments to explain your code."
   ]
  },
  {
   "cell_type": "code",
   "execution_count": 2,
   "metadata": {
    "vscode": {
     "languageId": "java"
    }
   },
   "outputs": [
    {
     "name": "stdout",
     "output_type": "stream",
     "text": [
      "2.653111381001559\n"
     ]
    }
   ],
   "source": [
    "// code\n",
    "import java.lang.Math.*;\n",
    "public class Main {\n",
    "    public static double calculateSquareRoot(double root) {\n",
    "        return Math.sqrt(root); //square root \n",
    "    }\n",
    "\n",
    "\n",
    "    public static void main (String[] args) {\n",
    "        System.out.println(calculateSquareRoot(7.0390));\n",
    "    }\n",
    "\n",
    "}\n",
    "Main.main(null);"
   ]
  }
 ],
 "metadata": {
  "kernelspec": {
   "display_name": "Java",
   "language": "java",
   "name": "java"
  },
  "language_info": {
   "codemirror_mode": "java",
   "file_extension": ".jshell",
   "mimetype": "text/x-java-source",
   "name": "Java",
   "pygments_lexer": "java",
   "version": "11.0.20+8-post-Ubuntu-1ubuntu120.04"
  }
 },
 "nbformat": 4,
 "nbformat_minor": 2
}
